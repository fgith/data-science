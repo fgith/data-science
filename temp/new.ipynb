{
  "nbformat": 4,
  "nbformat_minor": 0,
  "metadata": {
    "colab": {
      "name": "new.ipynb",
      "provenance": [],
      "authorship_tag": "ABX9TyNb7sCuYYhvmub3EQVqEM76",
      "include_colab_link": true
    },
    "kernelspec": {
      "name": "python3",
      "display_name": "Python 3"
    },
    "language_info": {
      "name": "python"
    }
  },
  "cells": [
    {
      "cell_type": "markdown",
      "metadata": {
        "id": "view-in-github",
        "colab_type": "text"
      },
      "source": [
        "<a href=\"https://colab.research.google.com/github/fgith/data-science/blob/main/temp/new.ipynb\" target=\"_parent\"><img src=\"https://colab.research.google.com/assets/colab-badge.svg\" alt=\"Open In Colab\"/></a>"
      ]
    },
    {
      "cell_type": "code",
      "execution_count": 1,
      "metadata": {
        "id": "ZNhfRqIISP5M"
      },
      "outputs": [],
      "source": [
        "import pandas as pd\n",
        "import matplotlib as plt\n",
        "import numpy as np\n",
        "import seaborn as sns\n",
        "pd.options.display.max_columns = None"
      ]
    },
    {
      "cell_type": "code",
      "source": [
        "item_categories = pd.read_csv(\"item_categories.csv\")\n",
        "items = pd.read_csv(\"items.csv\")\n",
        "shops = pd.read_csv(\"shops.csv\")\n",
        "test = pd.read_csv(\"test.csv\")\n",
        "sales_train = pd.read_csv(\"sales_train.csv\")"
      ],
      "metadata": {
        "id": "wBEb0yiFS46K"
      },
      "execution_count": 2,
      "outputs": []
    },
    {
      "cell_type": "code",
      "source": [
        "# item_categories.head()\n",
        "# items.nunique()\n",
        "# shops.nunique()\n",
        "# test.nunique()\n",
        "# display(sales_train.shape)\n",
        "# display(sales_train.info())"
      ],
      "metadata": {
        "id": "8KvhDNX-I0HF"
      },
      "execution_count": null,
      "outputs": []
    },
    {
      "cell_type": "code",
      "source": [
        "# Convert 'date' into datetime format\n",
        "sales_train['f_date'] = pd.to_datetime(sales_train['date'],format='%d.%m.%Y')\n",
        "\n",
        "sales_train.drop(['date','item_price'],axis=1,inplace=True)"
      ],
      "metadata": {
        "id": "eUnLyUWkt3Rf"
      },
      "execution_count": 3,
      "outputs": []
    },
    {
      "cell_type": "code",
      "source": [
        "# Drop rows where 'item_cnt_day' = -1\n",
        "# filt = sales_train['item_cnt_day'] != -1\n",
        "# sales_train_updated = sales_train.loc[filt]"
      ],
      "metadata": {
        "id": "up7gYn5D2O29"
      },
      "execution_count": null,
      "outputs": []
    },
    {
      "cell_type": "code",
      "source": [
        "sales_train.shape"
      ],
      "metadata": {
        "id": "MC6hd1wTGjDN",
        "outputId": "cff52611-747f-4d27-9bac-cca5d9d94d93",
        "colab": {
          "base_uri": "https://localhost:8080/"
        }
      },
      "execution_count": 16,
      "outputs": [
        {
          "output_type": "execute_result",
          "data": {
            "text/plain": [
              "(2935849, 5)"
            ]
          },
          "metadata": {},
          "execution_count": 16
        }
      ]
    },
    {
      "cell_type": "code",
      "source": [
        "# sales_train.date_block_num.unique()\n",
        "\n",
        "# filt = sales_train['date_block_num']==1\n",
        "# display(sales_train[filt])\n",
        "\n",
        "\n",
        "# sales_train.set_index('f_date',inplace=True)\n",
        "sales_train['2013-02-14'].where()"
      ],
      "metadata": {
        "cellView": "code",
        "id": "SJpE5cS6wRtu",
        "outputId": "f448301c-4d57-40be-bfbd-f3a625816dc8",
        "colab": {
          "base_uri": "https://localhost:8080/",
          "height": 377
        }
      },
      "execution_count": 16,
      "outputs": [
        {
          "output_type": "stream",
          "name": "stderr",
          "text": [
            "/usr/local/lib/python3.7/dist-packages/ipykernel_launcher.py:8: FutureWarning: Indexing a DataFrame with a datetimelike index using a single string to slice the rows, like `frame[string]`, is deprecated and will be removed in a future version. Use `frame.loc[string]` instead.\n",
            "  \n"
          ]
        },
        {
          "output_type": "error",
          "ename": "TypeError",
          "evalue": "ignored",
          "traceback": [
            "\u001b[0;31m---------------------------------------------------------------------------\u001b[0m",
            "\u001b[0;31mTypeError\u001b[0m                                 Traceback (most recent call last)",
            "\u001b[0;32m<ipython-input-16-55f42836cabb>\u001b[0m in \u001b[0;36m<module>\u001b[0;34m()\u001b[0m\n\u001b[1;32m      6\u001b[0m \u001b[0;34m\u001b[0m\u001b[0m\n\u001b[1;32m      7\u001b[0m \u001b[0;31m# sales_train.set_index('f_date',inplace=True)\u001b[0m\u001b[0;34m\u001b[0m\u001b[0;34m\u001b[0m\u001b[0;34m\u001b[0m\u001b[0m\n\u001b[0;32m----> 8\u001b[0;31m \u001b[0msales_train\u001b[0m\u001b[0;34m[\u001b[0m\u001b[0;34m'2013-02-14'\u001b[0m\u001b[0;34m]\u001b[0m\u001b[0;34m.\u001b[0m\u001b[0mwhere\u001b[0m\u001b[0;34m(\u001b[0m\u001b[0mshop_id\u001b[0m \u001b[0;34m=\u001b[0m \u001b[0;36m50\u001b[0m\u001b[0;34m)\u001b[0m\u001b[0;34m\u001b[0m\u001b[0;34m\u001b[0m\u001b[0m\n\u001b[0m",
            "\u001b[0;32m/usr/local/lib/python3.7/dist-packages/pandas/util/_decorators.py\u001b[0m in \u001b[0;36mwrapper\u001b[0;34m(*args, **kwargs)\u001b[0m\n\u001b[1;32m    309\u001b[0m                     \u001b[0mstacklevel\u001b[0m\u001b[0;34m=\u001b[0m\u001b[0mstacklevel\u001b[0m\u001b[0;34m,\u001b[0m\u001b[0;34m\u001b[0m\u001b[0;34m\u001b[0m\u001b[0m\n\u001b[1;32m    310\u001b[0m                 )\n\u001b[0;32m--> 311\u001b[0;31m             \u001b[0;32mreturn\u001b[0m \u001b[0mfunc\u001b[0m\u001b[0;34m(\u001b[0m\u001b[0;34m*\u001b[0m\u001b[0margs\u001b[0m\u001b[0;34m,\u001b[0m \u001b[0;34m**\u001b[0m\u001b[0mkwargs\u001b[0m\u001b[0;34m)\u001b[0m\u001b[0;34m\u001b[0m\u001b[0;34m\u001b[0m\u001b[0m\n\u001b[0m\u001b[1;32m    312\u001b[0m \u001b[0;34m\u001b[0m\u001b[0m\n\u001b[1;32m    313\u001b[0m         \u001b[0;32mreturn\u001b[0m \u001b[0mwrapper\u001b[0m\u001b[0;34m\u001b[0m\u001b[0;34m\u001b[0m\u001b[0m\n",
            "\u001b[0;31mTypeError\u001b[0m: where() got an unexpected keyword argument 'shop_id'"
          ]
        }
      ]
    },
    {
      "cell_type": "code",
      "source": [
        "sales_train.groupby(by=['date_block_num','shop_id','item_id','f_date']).agg({'item_cnt_day':'sum'})\n",
        "fil = (sales_train['date_block_num'] == 1) & (sales_train['item_cnt_day'] > 1)\n",
        "sales_train[fil]"
      ],
      "metadata": {
        "id": "kI6XxSGsPR67",
        "outputId": "e7791599-43f0-47d6-f108-6a6176f46d96",
        "colab": {
          "base_uri": "https://localhost:8080/",
          "height": 424
        }
      },
      "execution_count": null,
      "outputs": [
        {
          "output_type": "execute_result",
          "data": {
            "text/plain": [
              "        date_block_num  shop_id  item_id  item_cnt_day     f_date\n",
              "115715               1       50     3834           2.0 2013-02-22\n",
              "115737               1       50     4164           3.0 2013-02-16\n",
              "115749               1       50     4244           2.0 2013-12-02\n",
              "115753               1       50     4251           2.0 2013-12-02\n",
              "115754               1       50     4251           2.0 2013-02-16\n",
              "...                ...      ...      ...           ...        ...\n",
              "224282               1       28    13417           2.0 2013-09-02\n",
              "224284               1       28    13417           2.0 2013-02-02\n",
              "224297               1       28    13511           2.0 2013-02-22\n",
              "224298               1       28    13511           2.0 2013-02-23\n",
              "224302               1       28    12745           3.0 2013-02-23\n",
              "\n",
              "[11003 rows x 5 columns]"
            ],
            "text/html": [
              "\n",
              "  <div id=\"df-af3f92c1-a69d-4822-ab52-5de4f5b74c3b\">\n",
              "    <div class=\"colab-df-container\">\n",
              "      <div>\n",
              "<style scoped>\n",
              "    .dataframe tbody tr th:only-of-type {\n",
              "        vertical-align: middle;\n",
              "    }\n",
              "\n",
              "    .dataframe tbody tr th {\n",
              "        vertical-align: top;\n",
              "    }\n",
              "\n",
              "    .dataframe thead th {\n",
              "        text-align: right;\n",
              "    }\n",
              "</style>\n",
              "<table border=\"1\" class=\"dataframe\">\n",
              "  <thead>\n",
              "    <tr style=\"text-align: right;\">\n",
              "      <th></th>\n",
              "      <th>date_block_num</th>\n",
              "      <th>shop_id</th>\n",
              "      <th>item_id</th>\n",
              "      <th>item_cnt_day</th>\n",
              "      <th>f_date</th>\n",
              "    </tr>\n",
              "  </thead>\n",
              "  <tbody>\n",
              "    <tr>\n",
              "      <th>115715</th>\n",
              "      <td>1</td>\n",
              "      <td>50</td>\n",
              "      <td>3834</td>\n",
              "      <td>2.0</td>\n",
              "      <td>2013-02-22</td>\n",
              "    </tr>\n",
              "    <tr>\n",
              "      <th>115737</th>\n",
              "      <td>1</td>\n",
              "      <td>50</td>\n",
              "      <td>4164</td>\n",
              "      <td>3.0</td>\n",
              "      <td>2013-02-16</td>\n",
              "    </tr>\n",
              "    <tr>\n",
              "      <th>115749</th>\n",
              "      <td>1</td>\n",
              "      <td>50</td>\n",
              "      <td>4244</td>\n",
              "      <td>2.0</td>\n",
              "      <td>2013-12-02</td>\n",
              "    </tr>\n",
              "    <tr>\n",
              "      <th>115753</th>\n",
              "      <td>1</td>\n",
              "      <td>50</td>\n",
              "      <td>4251</td>\n",
              "      <td>2.0</td>\n",
              "      <td>2013-12-02</td>\n",
              "    </tr>\n",
              "    <tr>\n",
              "      <th>115754</th>\n",
              "      <td>1</td>\n",
              "      <td>50</td>\n",
              "      <td>4251</td>\n",
              "      <td>2.0</td>\n",
              "      <td>2013-02-16</td>\n",
              "    </tr>\n",
              "    <tr>\n",
              "      <th>...</th>\n",
              "      <td>...</td>\n",
              "      <td>...</td>\n",
              "      <td>...</td>\n",
              "      <td>...</td>\n",
              "      <td>...</td>\n",
              "    </tr>\n",
              "    <tr>\n",
              "      <th>224282</th>\n",
              "      <td>1</td>\n",
              "      <td>28</td>\n",
              "      <td>13417</td>\n",
              "      <td>2.0</td>\n",
              "      <td>2013-09-02</td>\n",
              "    </tr>\n",
              "    <tr>\n",
              "      <th>224284</th>\n",
              "      <td>1</td>\n",
              "      <td>28</td>\n",
              "      <td>13417</td>\n",
              "      <td>2.0</td>\n",
              "      <td>2013-02-02</td>\n",
              "    </tr>\n",
              "    <tr>\n",
              "      <th>224297</th>\n",
              "      <td>1</td>\n",
              "      <td>28</td>\n",
              "      <td>13511</td>\n",
              "      <td>2.0</td>\n",
              "      <td>2013-02-22</td>\n",
              "    </tr>\n",
              "    <tr>\n",
              "      <th>224298</th>\n",
              "      <td>1</td>\n",
              "      <td>28</td>\n",
              "      <td>13511</td>\n",
              "      <td>2.0</td>\n",
              "      <td>2013-02-23</td>\n",
              "    </tr>\n",
              "    <tr>\n",
              "      <th>224302</th>\n",
              "      <td>1</td>\n",
              "      <td>28</td>\n",
              "      <td>12745</td>\n",
              "      <td>3.0</td>\n",
              "      <td>2013-02-23</td>\n",
              "    </tr>\n",
              "  </tbody>\n",
              "</table>\n",
              "<p>11003 rows × 5 columns</p>\n",
              "</div>\n",
              "      <button class=\"colab-df-convert\" onclick=\"convertToInteractive('df-af3f92c1-a69d-4822-ab52-5de4f5b74c3b')\"\n",
              "              title=\"Convert this dataframe to an interactive table.\"\n",
              "              style=\"display:none;\">\n",
              "        \n",
              "  <svg xmlns=\"http://www.w3.org/2000/svg\" height=\"24px\"viewBox=\"0 0 24 24\"\n",
              "       width=\"24px\">\n",
              "    <path d=\"M0 0h24v24H0V0z\" fill=\"none\"/>\n",
              "    <path d=\"M18.56 5.44l.94 2.06.94-2.06 2.06-.94-2.06-.94-.94-2.06-.94 2.06-2.06.94zm-11 1L8.5 8.5l.94-2.06 2.06-.94-2.06-.94L8.5 2.5l-.94 2.06-2.06.94zm10 10l.94 2.06.94-2.06 2.06-.94-2.06-.94-.94-2.06-.94 2.06-2.06.94z\"/><path d=\"M17.41 7.96l-1.37-1.37c-.4-.4-.92-.59-1.43-.59-.52 0-1.04.2-1.43.59L10.3 9.45l-7.72 7.72c-.78.78-.78 2.05 0 2.83L4 21.41c.39.39.9.59 1.41.59.51 0 1.02-.2 1.41-.59l7.78-7.78 2.81-2.81c.8-.78.8-2.07 0-2.86zM5.41 20L4 18.59l7.72-7.72 1.47 1.35L5.41 20z\"/>\n",
              "  </svg>\n",
              "      </button>\n",
              "      \n",
              "  <style>\n",
              "    .colab-df-container {\n",
              "      display:flex;\n",
              "      flex-wrap:wrap;\n",
              "      gap: 12px;\n",
              "    }\n",
              "\n",
              "    .colab-df-convert {\n",
              "      background-color: #E8F0FE;\n",
              "      border: none;\n",
              "      border-radius: 50%;\n",
              "      cursor: pointer;\n",
              "      display: none;\n",
              "      fill: #1967D2;\n",
              "      height: 32px;\n",
              "      padding: 0 0 0 0;\n",
              "      width: 32px;\n",
              "    }\n",
              "\n",
              "    .colab-df-convert:hover {\n",
              "      background-color: #E2EBFA;\n",
              "      box-shadow: 0px 1px 2px rgba(60, 64, 67, 0.3), 0px 1px 3px 1px rgba(60, 64, 67, 0.15);\n",
              "      fill: #174EA6;\n",
              "    }\n",
              "\n",
              "    [theme=dark] .colab-df-convert {\n",
              "      background-color: #3B4455;\n",
              "      fill: #D2E3FC;\n",
              "    }\n",
              "\n",
              "    [theme=dark] .colab-df-convert:hover {\n",
              "      background-color: #434B5C;\n",
              "      box-shadow: 0px 1px 3px 1px rgba(0, 0, 0, 0.15);\n",
              "      filter: drop-shadow(0px 1px 2px rgba(0, 0, 0, 0.3));\n",
              "      fill: #FFFFFF;\n",
              "    }\n",
              "  </style>\n",
              "\n",
              "      <script>\n",
              "        const buttonEl =\n",
              "          document.querySelector('#df-af3f92c1-a69d-4822-ab52-5de4f5b74c3b button.colab-df-convert');\n",
              "        buttonEl.style.display =\n",
              "          google.colab.kernel.accessAllowed ? 'block' : 'none';\n",
              "\n",
              "        async function convertToInteractive(key) {\n",
              "          const element = document.querySelector('#df-af3f92c1-a69d-4822-ab52-5de4f5b74c3b');\n",
              "          const dataTable =\n",
              "            await google.colab.kernel.invokeFunction('convertToInteractive',\n",
              "                                                     [key], {});\n",
              "          if (!dataTable) return;\n",
              "\n",
              "          const docLinkHtml = 'Like what you see? Visit the ' +\n",
              "            '<a target=\"_blank\" href=https://colab.research.google.com/notebooks/data_table.ipynb>data table notebook</a>'\n",
              "            + ' to learn more about interactive tables.';\n",
              "          element.innerHTML = '';\n",
              "          dataTable['output_type'] = 'display_data';\n",
              "          await google.colab.output.renderOutput(dataTable, element);\n",
              "          const docLink = document.createElement('div');\n",
              "          docLink.innerHTML = docLinkHtml;\n",
              "          element.appendChild(docLink);\n",
              "        }\n",
              "      </script>\n",
              "    </div>\n",
              "  </div>\n",
              "  "
            ]
          },
          "metadata": {},
          "execution_count": 45
        }
      ]
    }
  ]
}