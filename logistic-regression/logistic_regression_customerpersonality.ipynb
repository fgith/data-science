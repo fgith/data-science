{
  "nbformat": 4,
  "nbformat_minor": 0,
  "metadata": {
    "colab": {
      "name": "logistic_regression_customerpersonality.ipynb",
      "provenance": [],
      "collapsed_sections": [],
      "authorship_tag": "ABX9TyPFDPeYrovcB26jMZ7mufST",
      "include_colab_link": true
    },
    "kernelspec": {
      "name": "python3",
      "display_name": "Python 3"
    },
    "language_info": {
      "name": "python"
    }
  },
  "cells": [
    {
      "cell_type": "markdown",
      "metadata": {
        "id": "view-in-github",
        "colab_type": "text"
      },
      "source": [
        "<a href=\"https://colab.research.google.com/github/fgith/data-science/blob/main/logistic-regression/logistic_regression_customerpersonality.ipynb\" target=\"_parent\"><img src=\"https://colab.research.google.com/assets/colab-badge.svg\" alt=\"Open In Colab\"/></a>"
      ]
    },
    {
      "cell_type": "code",
      "execution_count": null,
      "metadata": {
        "colab": {
          "base_uri": "https://localhost:8080/"
        },
        "id": "UjB_YwFQo888",
        "outputId": "68240fd9-d6c9-4c59-9e85-cef20fb45193"
      },
      "outputs": [
        {
          "output_type": "stream",
          "name": "stdout",
          "text": [
            "--2022-04-16 04:54:32--  https://raw.githubusercontent.com/fgith/data-science/main/datasets/marketing_campaign.csv\n",
            "Resolving raw.githubusercontent.com (raw.githubusercontent.com)... 185.199.108.133, 185.199.109.133, 185.199.110.133, ...\n",
            "Connecting to raw.githubusercontent.com (raw.githubusercontent.com)|185.199.108.133|:443... connected.\n",
            "HTTP request sent, awaiting response... 200 OK\n",
            "Length: 217947 (213K) [text/plain]\n",
            "Saving to: ‘marketing_campaign.csv’\n",
            "\n",
            "\rmarketing_campaign.   0%[                    ]       0  --.-KB/s               \rmarketing_campaign. 100%[===================>] 212.84K  --.-KB/s    in 0.03s   \n",
            "\n",
            "2022-04-16 04:54:32 (8.18 MB/s) - ‘marketing_campaign.csv’ saved [217947/217947]\n",
            "\n"
          ]
        }
      ],
      "source": [
        "!wget \"https://raw.githubusercontent.com/fgith/data-science/main/datasets/marketing_campaign.csv\""
      ]
    },
    {
      "cell_type": "code",
      "source": [
        "import pandas as pd\n",
        "import matplotlib.pyplot as plt\n",
        "import numpy as np  "
      ],
      "metadata": {
        "id": "DrNj8g4JuZMI"
      },
      "execution_count": null,
      "outputs": []
    },
    {
      "cell_type": "markdown",
      "source": [
        "**Load CSV Dataset**"
      ],
      "metadata": {
        "id": "cLVm6wZEuSn1"
      }
    },
    {
      "cell_type": "code",
      "source": [
        "dataset = pd.read_csv(\"marketing_campaign.csv\",delimiter='\\t')"
      ],
      "metadata": {
        "id": "bX9O9D2ju7Ku"
      },
      "execution_count": null,
      "outputs": []
    },
    {
      "cell_type": "code",
      "source": [
        "df = pd.DataFrame(dataset)\n",
        "df.shape"
      ],
      "metadata": {
        "id": "aL-lAv83u26R",
        "colab": {
          "base_uri": "https://localhost:8080/"
        },
        "outputId": "c75f1c8b-48d0-4c51-9079-f06a454f9a77"
      },
      "execution_count": 142,
      "outputs": [
        {
          "output_type": "execute_result",
          "data": {
            "text/plain": [
              "(2240, 29)"
            ]
          },
          "metadata": {},
          "execution_count": 142
        }
      ]
    },
    {
      "cell_type": "code",
      "source": [
        "df.isnull().sum()\n",
        "# df.info()\n",
        "# df.columns\n",
        "# df.index\n",
        "# df.values\n",
        "# df.shape\n",
        "# df.head()"
      ],
      "metadata": {
        "colab": {
          "base_uri": "https://localhost:8080/"
        },
        "id": "PJ-FWga3TIyR",
        "outputId": "2366d23f-3acc-4774-f83d-77df2056d033"
      },
      "execution_count": null,
      "outputs": [
        {
          "output_type": "execute_result",
          "data": {
            "text/plain": [
              "ID                      0\n",
              "Year_Birth              0\n",
              "Education               0\n",
              "Marital_Status          0\n",
              "Income                 24\n",
              "Kidhome                 0\n",
              "Teenhome                0\n",
              "Dt_Customer             0\n",
              "Recency                 0\n",
              "MntWines                0\n",
              "MntFruits               0\n",
              "MntMeatProducts         0\n",
              "MntFishProducts         0\n",
              "MntSweetProducts        0\n",
              "MntGoldProds            0\n",
              "NumDealsPurchases       0\n",
              "NumWebPurchases         0\n",
              "NumCatalogPurchases     0\n",
              "NumStorePurchases       0\n",
              "NumWebVisitsMonth       0\n",
              "AcceptedCmp3            0\n",
              "AcceptedCmp4            0\n",
              "AcceptedCmp5            0\n",
              "AcceptedCmp1            0\n",
              "AcceptedCmp2            0\n",
              "Complain                0\n",
              "Z_CostContact           0\n",
              "Z_Revenue               0\n",
              "Response                0\n",
              "dtype: int64"
            ]
          },
          "metadata": {},
          "execution_count": 56
        }
      ]
    },
    {
      "cell_type": "markdown",
      "source": [
        "**Assign X and y Data**"
      ],
      "metadata": {
        "id": "5LFNlVXEvaJj"
      }
    },
    {
      "cell_type": "code",
      "source": [
        "X = df.drop(columns = ['Year_Birth','ID','Dt_Customer'],axis=1)\n",
        "y = X['Response']\n",
        "X.shape,y.shape"
      ],
      "metadata": {
        "colab": {
          "base_uri": "https://localhost:8080/"
        },
        "id": "1HWl9DVEveeA",
        "outputId": "df6841ca-3b5a-4514-ec48-c709a1326b21"
      },
      "execution_count": 143,
      "outputs": [
        {
          "output_type": "execute_result",
          "data": {
            "text/plain": [
              "((2240, 26), (2240,))"
            ]
          },
          "metadata": {},
          "execution_count": 143
        }
      ]
    },
    {
      "cell_type": "code",
      "source": [
        "X['Marital_Status'].replace({\"Single\":1, \"Together\":2, \"Married\":3, \"Divorced\":4, \"Widow\":5, \"Alone\":6, \"Absurd\":7, \"YOLO\":8},inplace=True)\n",
        "X['Education'].replace({\"Graduation\":1, \"PhD\":2, \"Master\":3,\"Basic\":4,\"2n Cycle\":5},inplace=True)\n",
        "# X['Income'].fillna(0)"
      ],
      "metadata": {
        "id": "aOhsYJcQQcNc"
      },
      "execution_count": 144,
      "outputs": []
    },
    {
      "cell_type": "code",
      "source": [
        "X.replace([np.inf, -np.inf], np.nan, inplace=True)\n",
        "X.fillna(0, inplace=True)"
      ],
      "metadata": {
        "id": "mgID3oPUd6Al"
      },
      "execution_count": 145,
      "outputs": []
    },
    {
      "cell_type": "code",
      "source": [
        "from sklearn.preprocessing import StandardScaler\n",
        "\n",
        "StandardScaler = StandardScaler()\n",
        "X_scaled = pd.DataFrame(StandardScaler.fit_transform(X))\n",
        "# X_scaled.head()"
      ],
      "metadata": {
        "colab": {
          "base_uri": "https://localhost:8080/",
          "height": 299
        },
        "id": "rIiIWGl3ffFK",
        "outputId": "7a7dbfdc-84e4-4076-b4d8-0c1267411d42"
      },
      "execution_count": 146,
      "outputs": [
        {
          "output_type": "execute_result",
          "data": {
            "text/plain": [
              "         0         1         2         3         4         5         6   \\\n",
              "0 -0.781341 -1.394226  0.251939 -0.825218 -0.929894  0.307039  0.983781   \n",
              "1 -0.781341 -1.394226 -0.208699  1.032559  0.906934 -0.383664 -0.870479   \n",
              "2 -0.781341 -0.462802  0.778231 -0.825218 -0.929894 -0.798086  0.362723   \n",
              "3 -0.781341 -0.462802 -0.978043  1.032559 -0.929894 -0.798086 -0.870479   \n",
              "4  0.014206  0.468623  0.257992  1.032559 -0.929894  1.550305 -0.389085   \n",
              "\n",
              "         7         8         9   ...        16       17       18       19  \\\n",
              "0  1.551577  1.679702  2.462147  ...  0.693904 -0.28014 -0.28383 -0.28014   \n",
              "1 -0.636301 -0.713225 -0.650449  ... -0.130463 -0.28014 -0.28383 -0.28014   \n",
              "2  0.570804 -0.177032  1.345274  ... -0.542647 -0.28014 -0.28383 -0.28014   \n",
              "3 -0.560857 -0.651187 -0.503974  ...  0.281720 -0.28014 -0.28383 -0.28014   \n",
              "4  0.419916 -0.216914  0.155164  ... -0.130463 -0.28014 -0.28383 -0.28014   \n",
              "\n",
              "         20       21        22   23   24        25  \n",
              "0 -0.262111 -0.11651 -0.097282  0.0  0.0  2.388846  \n",
              "1 -0.262111 -0.11651 -0.097282  0.0  0.0 -0.418612  \n",
              "2 -0.262111 -0.11651 -0.097282  0.0  0.0 -0.418612  \n",
              "3 -0.262111 -0.11651 -0.097282  0.0  0.0 -0.418612  \n",
              "4 -0.262111 -0.11651 -0.097282  0.0  0.0 -0.418612  \n",
              "\n",
              "[5 rows x 26 columns]"
            ],
            "text/html": [
              "\n",
              "  <div id=\"df-c59d5433-1bec-4197-9789-c0a943bef51f\">\n",
              "    <div class=\"colab-df-container\">\n",
              "      <div>\n",
              "<style scoped>\n",
              "    .dataframe tbody tr th:only-of-type {\n",
              "        vertical-align: middle;\n",
              "    }\n",
              "\n",
              "    .dataframe tbody tr th {\n",
              "        vertical-align: top;\n",
              "    }\n",
              "\n",
              "    .dataframe thead th {\n",
              "        text-align: right;\n",
              "    }\n",
              "</style>\n",
              "<table border=\"1\" class=\"dataframe\">\n",
              "  <thead>\n",
              "    <tr style=\"text-align: right;\">\n",
              "      <th></th>\n",
              "      <th>0</th>\n",
              "      <th>1</th>\n",
              "      <th>2</th>\n",
              "      <th>3</th>\n",
              "      <th>4</th>\n",
              "      <th>5</th>\n",
              "      <th>6</th>\n",
              "      <th>7</th>\n",
              "      <th>8</th>\n",
              "      <th>9</th>\n",
              "      <th>...</th>\n",
              "      <th>16</th>\n",
              "      <th>17</th>\n",
              "      <th>18</th>\n",
              "      <th>19</th>\n",
              "      <th>20</th>\n",
              "      <th>21</th>\n",
              "      <th>22</th>\n",
              "      <th>23</th>\n",
              "      <th>24</th>\n",
              "      <th>25</th>\n",
              "    </tr>\n",
              "  </thead>\n",
              "  <tbody>\n",
              "    <tr>\n",
              "      <th>0</th>\n",
              "      <td>-0.781341</td>\n",
              "      <td>-1.394226</td>\n",
              "      <td>0.251939</td>\n",
              "      <td>-0.825218</td>\n",
              "      <td>-0.929894</td>\n",
              "      <td>0.307039</td>\n",
              "      <td>0.983781</td>\n",
              "      <td>1.551577</td>\n",
              "      <td>1.679702</td>\n",
              "      <td>2.462147</td>\n",
              "      <td>...</td>\n",
              "      <td>0.693904</td>\n",
              "      <td>-0.28014</td>\n",
              "      <td>-0.28383</td>\n",
              "      <td>-0.28014</td>\n",
              "      <td>-0.262111</td>\n",
              "      <td>-0.11651</td>\n",
              "      <td>-0.097282</td>\n",
              "      <td>0.0</td>\n",
              "      <td>0.0</td>\n",
              "      <td>2.388846</td>\n",
              "    </tr>\n",
              "    <tr>\n",
              "      <th>1</th>\n",
              "      <td>-0.781341</td>\n",
              "      <td>-1.394226</td>\n",
              "      <td>-0.208699</td>\n",
              "      <td>1.032559</td>\n",
              "      <td>0.906934</td>\n",
              "      <td>-0.383664</td>\n",
              "      <td>-0.870479</td>\n",
              "      <td>-0.636301</td>\n",
              "      <td>-0.713225</td>\n",
              "      <td>-0.650449</td>\n",
              "      <td>...</td>\n",
              "      <td>-0.130463</td>\n",
              "      <td>-0.28014</td>\n",
              "      <td>-0.28383</td>\n",
              "      <td>-0.28014</td>\n",
              "      <td>-0.262111</td>\n",
              "      <td>-0.11651</td>\n",
              "      <td>-0.097282</td>\n",
              "      <td>0.0</td>\n",
              "      <td>0.0</td>\n",
              "      <td>-0.418612</td>\n",
              "    </tr>\n",
              "    <tr>\n",
              "      <th>2</th>\n",
              "      <td>-0.781341</td>\n",
              "      <td>-0.462802</td>\n",
              "      <td>0.778231</td>\n",
              "      <td>-0.825218</td>\n",
              "      <td>-0.929894</td>\n",
              "      <td>-0.798086</td>\n",
              "      <td>0.362723</td>\n",
              "      <td>0.570804</td>\n",
              "      <td>-0.177032</td>\n",
              "      <td>1.345274</td>\n",
              "      <td>...</td>\n",
              "      <td>-0.542647</td>\n",
              "      <td>-0.28014</td>\n",
              "      <td>-0.28383</td>\n",
              "      <td>-0.28014</td>\n",
              "      <td>-0.262111</td>\n",
              "      <td>-0.11651</td>\n",
              "      <td>-0.097282</td>\n",
              "      <td>0.0</td>\n",
              "      <td>0.0</td>\n",
              "      <td>-0.418612</td>\n",
              "    </tr>\n",
              "    <tr>\n",
              "      <th>3</th>\n",
              "      <td>-0.781341</td>\n",
              "      <td>-0.462802</td>\n",
              "      <td>-0.978043</td>\n",
              "      <td>1.032559</td>\n",
              "      <td>-0.929894</td>\n",
              "      <td>-0.798086</td>\n",
              "      <td>-0.870479</td>\n",
              "      <td>-0.560857</td>\n",
              "      <td>-0.651187</td>\n",
              "      <td>-0.503974</td>\n",
              "      <td>...</td>\n",
              "      <td>0.281720</td>\n",
              "      <td>-0.28014</td>\n",
              "      <td>-0.28383</td>\n",
              "      <td>-0.28014</td>\n",
              "      <td>-0.262111</td>\n",
              "      <td>-0.11651</td>\n",
              "      <td>-0.097282</td>\n",
              "      <td>0.0</td>\n",
              "      <td>0.0</td>\n",
              "      <td>-0.418612</td>\n",
              "    </tr>\n",
              "    <tr>\n",
              "      <th>4</th>\n",
              "      <td>0.014206</td>\n",
              "      <td>0.468623</td>\n",
              "      <td>0.257992</td>\n",
              "      <td>1.032559</td>\n",
              "      <td>-0.929894</td>\n",
              "      <td>1.550305</td>\n",
              "      <td>-0.389085</td>\n",
              "      <td>0.419916</td>\n",
              "      <td>-0.216914</td>\n",
              "      <td>0.155164</td>\n",
              "      <td>...</td>\n",
              "      <td>-0.130463</td>\n",
              "      <td>-0.28014</td>\n",
              "      <td>-0.28383</td>\n",
              "      <td>-0.28014</td>\n",
              "      <td>-0.262111</td>\n",
              "      <td>-0.11651</td>\n",
              "      <td>-0.097282</td>\n",
              "      <td>0.0</td>\n",
              "      <td>0.0</td>\n",
              "      <td>-0.418612</td>\n",
              "    </tr>\n",
              "  </tbody>\n",
              "</table>\n",
              "<p>5 rows × 26 columns</p>\n",
              "</div>\n",
              "      <button class=\"colab-df-convert\" onclick=\"convertToInteractive('df-c59d5433-1bec-4197-9789-c0a943bef51f')\"\n",
              "              title=\"Convert this dataframe to an interactive table.\"\n",
              "              style=\"display:none;\">\n",
              "        \n",
              "  <svg xmlns=\"http://www.w3.org/2000/svg\" height=\"24px\"viewBox=\"0 0 24 24\"\n",
              "       width=\"24px\">\n",
              "    <path d=\"M0 0h24v24H0V0z\" fill=\"none\"/>\n",
              "    <path d=\"M18.56 5.44l.94 2.06.94-2.06 2.06-.94-2.06-.94-.94-2.06-.94 2.06-2.06.94zm-11 1L8.5 8.5l.94-2.06 2.06-.94-2.06-.94L8.5 2.5l-.94 2.06-2.06.94zm10 10l.94 2.06.94-2.06 2.06-.94-2.06-.94-.94-2.06-.94 2.06-2.06.94z\"/><path d=\"M17.41 7.96l-1.37-1.37c-.4-.4-.92-.59-1.43-.59-.52 0-1.04.2-1.43.59L10.3 9.45l-7.72 7.72c-.78.78-.78 2.05 0 2.83L4 21.41c.39.39.9.59 1.41.59.51 0 1.02-.2 1.41-.59l7.78-7.78 2.81-2.81c.8-.78.8-2.07 0-2.86zM5.41 20L4 18.59l7.72-7.72 1.47 1.35L5.41 20z\"/>\n",
              "  </svg>\n",
              "      </button>\n",
              "      \n",
              "  <style>\n",
              "    .colab-df-container {\n",
              "      display:flex;\n",
              "      flex-wrap:wrap;\n",
              "      gap: 12px;\n",
              "    }\n",
              "\n",
              "    .colab-df-convert {\n",
              "      background-color: #E8F0FE;\n",
              "      border: none;\n",
              "      border-radius: 50%;\n",
              "      cursor: pointer;\n",
              "      display: none;\n",
              "      fill: #1967D2;\n",
              "      height: 32px;\n",
              "      padding: 0 0 0 0;\n",
              "      width: 32px;\n",
              "    }\n",
              "\n",
              "    .colab-df-convert:hover {\n",
              "      background-color: #E2EBFA;\n",
              "      box-shadow: 0px 1px 2px rgba(60, 64, 67, 0.3), 0px 1px 3px 1px rgba(60, 64, 67, 0.15);\n",
              "      fill: #174EA6;\n",
              "    }\n",
              "\n",
              "    [theme=dark] .colab-df-convert {\n",
              "      background-color: #3B4455;\n",
              "      fill: #D2E3FC;\n",
              "    }\n",
              "\n",
              "    [theme=dark] .colab-df-convert:hover {\n",
              "      background-color: #434B5C;\n",
              "      box-shadow: 0px 1px 3px 1px rgba(0, 0, 0, 0.15);\n",
              "      filter: drop-shadow(0px 1px 2px rgba(0, 0, 0, 0.3));\n",
              "      fill: #FFFFFF;\n",
              "    }\n",
              "  </style>\n",
              "\n",
              "      <script>\n",
              "        const buttonEl =\n",
              "          document.querySelector('#df-c59d5433-1bec-4197-9789-c0a943bef51f button.colab-df-convert');\n",
              "        buttonEl.style.display =\n",
              "          google.colab.kernel.accessAllowed ? 'block' : 'none';\n",
              "\n",
              "        async function convertToInteractive(key) {\n",
              "          const element = document.querySelector('#df-c59d5433-1bec-4197-9789-c0a943bef51f');\n",
              "          const dataTable =\n",
              "            await google.colab.kernel.invokeFunction('convertToInteractive',\n",
              "                                                     [key], {});\n",
              "          if (!dataTable) return;\n",
              "\n",
              "          const docLinkHtml = 'Like what you see? Visit the ' +\n",
              "            '<a target=\"_blank\" href=https://colab.research.google.com/notebooks/data_table.ipynb>data table notebook</a>'\n",
              "            + ' to learn more about interactive tables.';\n",
              "          element.innerHTML = '';\n",
              "          dataTable['output_type'] = 'display_data';\n",
              "          await google.colab.output.renderOutput(dataTable, element);\n",
              "          const docLink = document.createElement('div');\n",
              "          docLink.innerHTML = docLinkHtml;\n",
              "          element.appendChild(docLink);\n",
              "        }\n",
              "      </script>\n",
              "    </div>\n",
              "  </div>\n",
              "  "
            ]
          },
          "metadata": {},
          "execution_count": 146
        }
      ]
    },
    {
      "cell_type": "code",
      "source": [
        "from sklearn.model_selection import train_test_split\n",
        "X_train, X_test, y_train, y_test = train_test_split(X_scaled,y,train_size=0.7)"
      ],
      "metadata": {
        "id": "7oGCYyqcblw-"
      },
      "execution_count": 151,
      "outputs": []
    },
    {
      "cell_type": "code",
      "source": [
        "from sklearn.linear_model import LogisticRegression\n",
        "\n",
        "clf = LogisticRegression()\n",
        "clf.fit(X_train,y_train)"
      ],
      "metadata": {
        "colab": {
          "base_uri": "https://localhost:8080/"
        },
        "id": "Ee9HFDEydQmM",
        "outputId": "8ea99ace-47f2-4139-d79c-dce6606cb71d"
      },
      "execution_count": 152,
      "outputs": [
        {
          "output_type": "execute_result",
          "data": {
            "text/plain": [
              "LogisticRegression()"
            ]
          },
          "metadata": {},
          "execution_count": 152
        }
      ]
    },
    {
      "cell_type": "code",
      "source": [
        "y_pred = clf.predict(X_test)"
      ],
      "metadata": {
        "id": "wsLvndeRdmOp"
      },
      "execution_count": 153,
      "outputs": []
    },
    {
      "cell_type": "code",
      "source": [
        "from sklearn.metrics import mean_squared_error,r2_score,accuracy_score\n",
        "accuracy = accuracy_score(y_test,y_pred)\n",
        "print(\"Accuracy: %.2f\" % accuracy_score(y_test,y_pred))\n",
        "print(\"Mean Squared Error: %.2f\" % mean_squared_error(y_test,y_pred))\n",
        "print(\"Coefficient of Determination: %.2f\" % r2_score(y_test,y_pred))"
      ],
      "metadata": {
        "id": "ACGdhxIDjUSG",
        "colab": {
          "base_uri": "https://localhost:8080/"
        },
        "outputId": "0435b6a5-546d-4d63-a1db-c228a2a10848"
      },
      "execution_count": 156,
      "outputs": [
        {
          "output_type": "stream",
          "name": "stdout",
          "text": [
            "Accuracy: 1.00\n",
            "Mean Squared Error: 0.00\n",
            "Coefficient of Determination: 1.00\n",
            "1.0\n"
          ]
        }
      ]
    }
  ]
}