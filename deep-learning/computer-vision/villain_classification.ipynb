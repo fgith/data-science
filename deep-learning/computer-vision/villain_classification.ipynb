{
  "nbformat": 4,
  "nbformat_minor": 0,
  "metadata": {
    "colab": {
      "name": "villain_classification.ipynb",
      "provenance": [],
      "authorship_tag": "ABX9TyOYPAdCHu7qdtVeMxoe8t7i",
      "include_colab_link": true
    },
    "kernelspec": {
      "name": "python3",
      "display_name": "Python 3"
    },
    "language_info": {
      "name": "python"
    }
  },
  "cells": [
    {
      "cell_type": "markdown",
      "metadata": {
        "id": "view-in-github",
        "colab_type": "text"
      },
      "source": [
        "<a href=\"https://colab.research.google.com/github/fgith/data-science/blob/main/deep-learning/computer-vision/villain_classification.ipynb\" target=\"_parent\"><img src=\"https://colab.research.google.com/assets/colab-badge.svg\" alt=\"Open In Colab\"/></a>"
      ]
    },
    {
      "cell_type": "code",
      "execution_count": 1,
      "metadata": {
        "id": "BsSD-WegQb4I"
      },
      "outputs": [],
      "source": [
        "import numpy as np\n",
        "import pandas as pd \n",
        "import matplotlib.pyplot as plt\n",
        "import tensorflow as tf\n",
        "from tensorflow import keras\n",
        "from keras import layers as tfl\n",
        "import os\n",
        "import cv2\n",
        "from sklearn import preprocessing\n",
        "from pathlib import Path\n",
        "from PIL import Image"
      ]
    },
    {
      "cell_type": "code",
      "source": [
        "pd.set_option('max_rows', 99999)\n",
        "pd.set_option('max_colwidth', 400)\n",
        "pd.describe_option('max_colwidth')"
      ],
      "metadata": {
        "id": "V0ajPX8hT2Pw",
        "outputId": "18e95d38-c9f8-4d9b-ef01-33bdd826e38e",
        "colab": {
          "base_uri": "https://localhost:8080/"
        }
      },
      "execution_count": 2,
      "outputs": [
        {
          "output_type": "stream",
          "name": "stdout",
          "text": [
            "display.max_colwidth : int or None\n",
            "    The maximum width in characters of a column in the repr of\n",
            "    a pandas data structure. When the column overflows, a \"...\"\n",
            "    placeholder is embedded in the output. A 'None' value means unlimited.\n",
            "    [default: 50] [currently: 400]\n"
          ]
        }
      ]
    },
    {
      "cell_type": "code",
      "source": [
        "!mkdir -p ~/.kaggle\n",
        "!cp kaggle.json ~/.kaggle/\n",
        "!chmod 600 /root/.kaggle/kaggle.json\n",
        "#!kaggle datasets list"
      ],
      "metadata": {
        "id": "-dP9N6fDT6Gy"
      },
      "execution_count": 3,
      "outputs": []
    },
    {
      "cell_type": "code",
      "source": [
        "!kaggle datasets download -d ujjwalchowdhury/yoga-pose-classification"
      ],
      "metadata": {
        "id": "dQoVItFcT8Qm",
        "colab": {
          "base_uri": "https://localhost:8080/"
        },
        "outputId": "71bcf451-36c8-4f7d-f4c7-4c3a2ca66061"
      },
      "execution_count": 4,
      "outputs": [
        {
          "output_type": "stream",
          "name": "stdout",
          "text": [
            "Downloading yoga-pose-classification.zip to /content\n",
            " 33% 5.00M/15.0M [00:00<00:00, 33.4MB/s]\n",
            "100% 15.0M/15.0M [00:00<00:00, 68.4MB/s]\n"
          ]
        }
      ]
    },
    {
      "cell_type": "code",
      "source": [
        "!unzip yoga-pose-classification.zip"
      ],
      "metadata": {
        "id": "FPTdj5DoeQQI"
      },
      "execution_count": null,
      "outputs": []
    },
    {
      "cell_type": "code",
      "source": [
        "!pip install split-folders\n",
        "import splitfolders"
      ],
      "metadata": {
        "id": "XKS0kOU9rrri"
      },
      "execution_count": null,
      "outputs": []
    },
    {
      "cell_type": "code",
      "source": [
        "input_folder = \"../content/YogaPoses/\"\n",
        "output_folder = \"../content/output_folder\" #where you want the split datasets saved. one will be created if it does not exist or none is set\n",
        "\n",
        "splitfolders.ratio(input_folder, output=output_folder, seed=42, ratio=(.8, .1, .1)) # ratio of split are in order of train/val/test. You can change to whatever you want. For train/val sets only, you could do .75, .25 for example."
      ],
      "metadata": {
        "colab": {
          "base_uri": "https://localhost:8080/"
        },
        "id": "TY7dxtlynVR1",
        "outputId": "aedd74a9-cd6e-410a-d8ad-882fed3d0b53"
      },
      "execution_count": 7,
      "outputs": [
        {
          "output_type": "stream",
          "name": "stderr",
          "text": [
            "Copying files: 988 files [00:00, 6356.60 files/s]\n"
          ]
        }
      ]
    },
    {
      "cell_type": "code",
      "source": [
        "X_train = []\n",
        "X_test = []\n",
        "X_val = []"
      ],
      "metadata": {
        "id": "DX7pBLds2Pwo"
      },
      "execution_count": 20,
      "outputs": []
    },
    {
      "cell_type": "code",
      "source": [
        "def read_images(image_path, var_list):\n",
        "  var_list.clear()\n",
        "  for folder in os.listdir(image_path):\n",
        "      for img_file in os.listdir(image_path+'/'+folder+'/'):\n",
        "        var_list.append(image_path+'/'+folder+'/'+img_file)\n",
        "  return var_list"
      ],
      "metadata": {
        "id": "SDrI-7l646_m"
      },
      "execution_count": 19,
      "outputs": []
    },
    {
      "cell_type": "code",
      "source": [
        "X_train = read_images(\"../content/output_folder/train\", X_train)\n",
        "X_test = read_images(\"../content/output_folder/test\", X_test)\n",
        "X_val = read_images(\"../content/output_folder/val\", X_val)"
      ],
      "metadata": {
        "id": "BRsI4Gb2KF6r"
      },
      "execution_count": 21,
      "outputs": []
    },
    {
      "cell_type": "code",
      "source": [
        "print(X_train[0])\n",
        "print(len(X_test))\n",
        "print(X_val)"
      ],
      "metadata": {
        "id": "GlyZP7rjLIjH",
        "outputId": "e481714e-3236-4ea7-b2e1-5b6ed17be3d7",
        "colab": {
          "base_uri": "https://localhost:8080/"
        }
      },
      "execution_count": 24,
      "outputs": [
        {
          "output_type": "stream",
          "name": "stdout",
          "text": [
            "../content/output_folder/train/Downdog/00000297.jpg\n",
            "105\n",
            "['../content/output_folder/val/Downdog/00000295.jpg', '../content/output_folder/val/Downdog/00000142.jpg', '../content/output_folder/val/Downdog/00000310.jpg', '../content/output_folder/val/Downdog/00000089.jpg', '../content/output_folder/val/Downdog/00000201.jpg', '../content/output_folder/val/Downdog/00000143.jpg', '../content/output_folder/val/Downdog/00000055.jpg', '../content/output_folder/val/Downdog/00000075.jpg', '../content/output_folder/val/Downdog/00000053.jpg', '../content/output_folder/val/Downdog/00000414.jpg', '../content/output_folder/val/Downdog/00000347.jpg', '../content/output_folder/val/Downdog/00000001.jpg', '../content/output_folder/val/Downdog/00000346.jpg', '../content/output_folder/val/Downdog/00000404.jpg', '../content/output_folder/val/Downdog/00000176.jpg', '../content/output_folder/val/Downdog/00000422.jpg', '../content/output_folder/val/Downdog/00000115.jpg', '../content/output_folder/val/Downdog/00000409.jpg', '../content/output_folder/val/Downdog/00000392.jpg', '../content/output_folder/val/Warrior2/00000418.jpg', '../content/output_folder/val/Warrior2/00000297.jpg', '../content/output_folder/val/Warrior2/00000396.jpg', '../content/output_folder/val/Warrior2/00000061.jpg', '../content/output_folder/val/Warrior2/00000315.jpg', '../content/output_folder/val/Warrior2/00000412.jpg', '../content/output_folder/val/Warrior2/00000204.jpg', '../content/output_folder/val/Warrior2/00000059.jpg', '../content/output_folder/val/Warrior2/00000325.jpg', '../content/output_folder/val/Warrior2/00000360.jpg', '../content/output_folder/val/Warrior2/00000157.jpg', '../content/output_folder/val/Warrior2/00000436.jpg', '../content/output_folder/val/Warrior2/00000001.jpg', '../content/output_folder/val/Warrior2/00000082.jpg', '../content/output_folder/val/Warrior2/00000158.jpg', '../content/output_folder/val/Warrior2/00000117.jpg', '../content/output_folder/val/Warrior2/00000216.jpg', '../content/output_folder/val/Warrior2/00000384.jpg', '../content/output_folder/val/Warrior2/00000090.jpg', '../content/output_folder/val/Plank/00000327.jpg', '../content/output_folder/val/Plank/00000069.jpg', '../content/output_folder/val/Plank/00000242.jpg', '../content/output_folder/val/Plank/00000177.jpg', '../content/output_folder/val/Plank/00000435.jpg', '../content/output_folder/val/Plank/00000391.jpg', '../content/output_folder/val/Plank/00000412.jpg', '../content/output_folder/val/Plank/00000221.jpg', '../content/output_folder/val/Plank/00000318.jpg', '../content/output_folder/val/Plank/00000360.jpg', '../content/output_folder/val/Plank/00000138.jpg', '../content/output_folder/val/Plank/00000363.jpg', '../content/output_folder/val/Plank/00000001.jpg', '../content/output_folder/val/Plank/00000404.jpg', '../content/output_folder/val/Plank/00000087.jpg', '../content/output_folder/val/Plank/00000071.jpg', '../content/output_folder/val/Plank/00000178.jpg', '../content/output_folder/val/Plank/00000302.jpg', '../content/output_folder/val/Plank/00000097.jpg', '../content/output_folder/val/Tree/00000131.jpg', '../content/output_folder/val/Tree/00000099.jpg', '../content/output_folder/val/Tree/00000061.jpg', '../content/output_folder/val/Tree/00000184.jpg', '../content/output_folder/val/Tree/00000043.jpg', '../content/output_folder/val/Tree/00000179.jpg', '../content/output_folder/val/Tree/00000199.jpg', '../content/output_folder/val/Tree/File81.jpg', '../content/output_folder/val/Tree/File45.jpg', '../content/output_folder/val/Tree/00000123.jpg', '../content/output_folder/val/Tree/00000101.jpg', '../content/output_folder/val/Tree/00000170.jpg', '../content/output_folder/val/Tree/00000001.jpg', '../content/output_folder/val/Tree/00000082.jpg', '../content/output_folder/val/Tree/File40.jpg', '../content/output_folder/val/Tree/00000044.jpg', '../content/output_folder/val/Tree/File25.jpg', '../content/output_folder/val/Tree/File11.jpg', '../content/output_folder/val/Tree/00000054.jpg', '../content/output_folder/val/Goddess/00000310.jpg', '../content/output_folder/val/Goddess/00000395.jpg', '../content/output_folder/val/Goddess/00000077.jpg', '../content/output_folder/val/Goddess/00000308.jpg', '../content/output_folder/val/Goddess/00000052.jpg', '../content/output_folder/val/Goddess/00000272.jpg', '../content/output_folder/val/Goddess/00000169.jpg', '../content/output_folder/val/Goddess/00000358.jpg', '../content/output_folder/val/Goddess/00000067.jpg', '../content/output_folder/val/Goddess/00000101.jpg', '../content/output_folder/val/Goddess/00000050.jpg', '../content/output_folder/val/Goddess/00000124.jpg', '../content/output_folder/val/Goddess/00000001.jpg', '../content/output_folder/val/Goddess/00000255.jpg', '../content/output_folder/val/Goddess/00000348.jpg', '../content/output_folder/val/Goddess/00000183.jpg', '../content/output_folder/val/Goddess/00000285.jpg', '../content/output_folder/val/Goddess/00000125.jpg', '../content/output_folder/val/Goddess/00000369.jpg']\n"
          ]
        }
      ]
    },
    {
      "cell_type": "code",
      "source": [
        "# checking train path\n",
        "x=500\n",
        "image = cv2.imread(X_train[x]) \n",
        "\n",
        "# the first image bleongs to clean directory under train\n",
        "plt.imshow(image)\n",
        "#plt.title(img_files[x], fontsize = 20)\n",
        "#plt.axis('on')\n",
        "plt.show()"
      ],
      "metadata": {
        "colab": {
          "base_uri": "https://localhost:8080/",
          "height": 269
        },
        "id": "hC-OZYr6dLR8",
        "outputId": "5434cab6-0695-4b13-fcad-4b74e67b61c2"
      },
      "execution_count": 23,
      "outputs": [
        {
          "output_type": "display_data",
          "data": {
            "text/plain": [
              "<Figure size 432x288 with 1 Axes>"
            ],
            "image/png": "[encoded data removed]"
          },
          "metadata": {
            "needs_background": "light"
          }
        }
      ]
    }
  ]
}