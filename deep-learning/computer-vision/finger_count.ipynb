{
  "nbformat": 4,
  "nbformat_minor": 0,
  "metadata": {
    "colab": {
      "name": "finger_count.ipynb",
      "provenance": [],
      "authorship_tag": "ABX9TyOoJP04q6iwfj5kiu7ukGYC",
      "include_colab_link": true
    },
    "kernelspec": {
      "name": "python3",
      "display_name": "Python 3"
    },
    "language_info": {
      "name": "python"
    }
  },
  "cells": [
    {
      "cell_type": "markdown",
      "metadata": {
        "id": "view-in-github",
        "colab_type": "text"
      },
      "source": [
        "<a href=\"https://colab.research.google.com/github/fgith/data-science/blob/main/deep-learning/computer-vision/finger_count.ipynb\" target=\"_parent\"><img src=\"https://colab.research.google.com/assets/colab-badge.svg\" alt=\"Open In Colab\"/></a>"
      ]
    },
    {
      "cell_type": "code",
      "execution_count": 1,
      "metadata": {
        "id": "oJV2tKp2C4iT"
      },
      "outputs": [],
      "source": [
        "import tensorflow as tf\n",
        "from tensorflow import keras\n",
        "import os"
      ]
    },
    {
      "cell_type": "code",
      "source": [
        "!mkdir -p ~/.kaggle\n",
        "!cp kaggle.json ~/.kaggle/\n",
        "!chmod 600 /root/.kaggle/kaggle.json\n",
        "!kaggle datasets list"
      ],
      "metadata": {
        "id": "pa2yssq_Dntm"
      },
      "execution_count": null,
      "outputs": []
    },
    {
      "cell_type": "code",
      "source": [
        "!kaggle datasets download -d koryakinp/fingers"
      ],
      "metadata": {
        "id": "JT_P18MgDnHP",
        "outputId": "12d2394a-e64b-4b77-ae86-12cae709dc4c",
        "colab": {
          "base_uri": "https://localhost:8080/"
        }
      },
      "execution_count": 5,
      "outputs": [
        {
          "output_type": "stream",
          "name": "stdout",
          "text": [
            "Downloading fingers.zip to /content\n",
            " 99% 359M/363M [00:04<00:00, 165MB/s]\n",
            "100% 363M/363M [00:04<00:00, 79.2MB/s]\n"
          ]
        }
      ]
    },
    {
      "cell_type": "code",
      "source": [
        "!unzip fingers.zip"
      ],
      "metadata": {
        "id": "azhkJ2_3Dn2e"
      },
      "execution_count": null,
      "outputs": []
    },
    {
      "cell_type": "code",
      "source": [
        "os.getcwd()\n",
        "print(os.name)\n",
        "os.listdir()"
      ],
      "metadata": {
        "id": "rNHGQGDqDn8i"
      },
      "execution_count": null,
      "outputs": []
    },
    {
      "cell_type": "code",
      "source": [
        "train_path = []\n",
        "label_train = []\n",
        "\n",
        "path_train = \"../content/fingers/train/\"\n",
        "\n",
        "for filename in os.listdir(path_train):\n",
        "    \n",
        "    train_path.append(path_train+filename)\n",
        "    whole_label = filename.split('_')[1]\n",
        "    useful_label = whole_label.split('.')[0]\n",
        "    label_train.append(useful_label)\n",
        "\n",
        "print(\"Number of train images: \", len(train_path))\n",
        "print(\"First 6 labels: \", label_train[:6])"
      ],
      "metadata": {
        "id": "0neGl1Q0DoD-",
        "outputId": "bf513ed3-18c4-4cc2-f3b6-32587e6ea359",
        "colab": {
          "base_uri": "https://localhost:8080/"
        }
      },
      "execution_count": 12,
      "outputs": [
        {
          "output_type": "stream",
          "name": "stdout",
          "text": [
            "Number of train images:  18000\n",
            "First 6 labels:  ['0R', '5R', '2L', '2L', '5L', '3L']\n"
          ]
        }
      ]
    }
  ]
}