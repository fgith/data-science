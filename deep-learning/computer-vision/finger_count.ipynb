{
  "nbformat": 4,
  "nbformat_minor": 0,
  "metadata": {
    "colab": {
      "name": "finger_count.ipynb",
      "provenance": [],
      "authorship_tag": "ABX9TyMcTSqxjASAv25BCUBNt20q",
      "include_colab_link": true
    },
    "kernelspec": {
      "name": "python3",
      "display_name": "Python 3"
    },
    "language_info": {
      "name": "python"
    }
  },
  "cells": [
    {
      "cell_type": "markdown",
      "metadata": {
        "id": "view-in-github",
        "colab_type": "text"
      },
      "source": [
        "<a href=\"https://colab.research.google.com/github/fgith/data-science/blob/main/deep-learning/computer-vision/finger_count.ipynb\" target=\"_parent\"><img src=\"https://colab.research.google.com/assets/colab-badge.svg\" alt=\"Open In Colab\"/></a>"
      ]
    },
    {
      "cell_type": "code",
      "execution_count": 16,
      "metadata": {
        "id": "oJV2tKp2C4iT"
      },
      "outputs": [],
      "source": [
        "import numpy as np\n",
        "import pandas as pd \n",
        "import matplotlib.pyplot as plt\n",
        "import tensorflow as tf\n",
        "from tensorflow import keras\n",
        "import os\n",
        "import cv2\n",
        "from sklearn import preprocessing\n",
        "from pathlib import Path"
      ]
    },
    {
      "cell_type": "code",
      "source": [
        "!mkdir -p ~/.kaggle\n",
        "!cp kaggle.json ~/.kaggle/\n",
        "!chmod 600 /root/.kaggle/kaggle.json\n",
        "!kaggle datasets list"
      ],
      "metadata": {
        "id": "pa2yssq_Dntm"
      },
      "execution_count": null,
      "outputs": []
    },
    {
      "cell_type": "code",
      "source": [
        "!kaggle datasets download -d koryakinp/fingers"
      ],
      "metadata": {
        "colab": {
          "base_uri": "https://localhost:8080/"
        },
        "id": "JT_P18MgDnHP",
        "outputId": "12d2394a-e64b-4b77-ae86-12cae709dc4c"
      },
      "execution_count": 5,
      "outputs": [
        {
          "output_type": "stream",
          "name": "stdout",
          "text": [
            "Downloading fingers.zip to /content\n",
            " 99% 359M/363M [00:04<00:00, 165MB/s]\n",
            "100% 363M/363M [00:04<00:00, 79.2MB/s]\n"
          ]
        }
      ]
    },
    {
      "cell_type": "code",
      "source": [
        "!unzip fingers.zip"
      ],
      "metadata": {
        "id": "azhkJ2_3Dn2e"
      },
      "execution_count": null,
      "outputs": []
    },
    {
      "cell_type": "code",
      "source": [
        "os.getcwd()\n",
        "print(os.name)\n",
        "os.listdir()"
      ],
      "metadata": {
        "id": "rNHGQGDqDn8i"
      },
      "execution_count": null,
      "outputs": []
    },
    {
      "cell_type": "code",
      "source": [
        "train_path = []\n",
        "label_train = []\n",
        "\n",
        "path_train = \"../content/fingers/train/\"\n",
        "\n",
        "for filename in os.listdir(path_train):\n",
        "    \n",
        "    train_path.append(path_train+filename)\n",
        "    whole_label = filename.split('_')[1]\n",
        "    useful_label = whole_label.split('.')[0]\n",
        "    label_train.append(useful_label)\n",
        "\n",
        "print(\"Number of train images: \", len(train_path))\n",
        "print(\"First 6 labels: \", label_train[:6])"
      ],
      "metadata": {
        "colab": {
          "base_uri": "https://localhost:8080/"
        },
        "id": "0neGl1Q0DoD-",
        "outputId": "bf513ed3-18c4-4cc2-f3b6-32587e6ea359"
      },
      "execution_count": 12,
      "outputs": [
        {
          "output_type": "stream",
          "name": "stdout",
          "text": [
            "Number of train images:  18000\n",
            "First 6 labels:  ['0R', '5R', '2L', '2L', '5L', '3L']\n"
          ]
        }
      ]
    },
    {
      "cell_type": "code",
      "source": [
        "test_path = []\n",
        "label_test = []\n",
        "\n",
        "path_train = \"../content/fingers/test/\"\n",
        "\n",
        "for filename in os.listdir(path_train):\n",
        "    \n",
        "    test_path.append(path_train+filename)\n",
        "    whole_label = filename.split('_')[1]\n",
        "    useful_label = whole_label.split('.')[0]\n",
        "    label_test.append(useful_label)\n",
        "\n",
        "print(\"Number of test images: \", len(test_path))\n",
        "print(\"First 6 labels: \", label_train[:6])"
      ],
      "metadata": {
        "id": "IG07Aah1WzrF",
        "outputId": "8583c679-2497-44f3-b676-1d03d83b7ad1",
        "colab": {
          "base_uri": "https://localhost:8080/"
        }
      },
      "execution_count": 14,
      "outputs": [
        {
          "output_type": "stream",
          "name": "stdout",
          "text": [
            "Number of test images:  3600\n",
            "First 6 labels:  ['0R', '5R', '2L', '2L', '5L', '3L']\n"
          ]
        }
      ]
    },
    {
      "cell_type": "code",
      "source": [
        "# checking train path\n",
        "image = cv2.imread(train_path[3]) \n",
        "\n",
        "# the first image bleongs to clean directory under train\n",
        "plt.imshow(image)\n",
        "plt.title(label_train[0], fontsize = 20)\n",
        "plt.axis('off')\n",
        "plt.show()"
      ],
      "metadata": {
        "id": "DMzz7EsvW1Xn",
        "outputId": "f4fccd9c-6c3a-4f63-cb7d-f6eb8c0b2531",
        "colab": {
          "base_uri": "https://localhost:8080/",
          "height": 269
        }
      },
      "execution_count": 18,
      "outputs": [
        {
          "output_type": "display_data",
          "data": {
            "text/plain": [
              "<Figure size 432x288 with 1 Axes>"
            ],
            "image/png": "[encoded data removed]"
          },
          "metadata": {
            "needs_background": "light"
          }
        }
      ]
    },
    {
      "cell_type": "code",
      "source": [
        ""
      ],
      "metadata": {
        "id": "hAw31ve0W6on"
      },
      "execution_count": null,
      "outputs": []
    }
  ]
}