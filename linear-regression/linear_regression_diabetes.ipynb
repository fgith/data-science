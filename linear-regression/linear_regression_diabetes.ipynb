{
  "nbformat": 4,
  "nbformat_minor": 0,
  "metadata": {
    "colab": {
      "name": "linear_regression_diabetes.ipynb",
      "provenance": [],
      "authorship_tag": "ABX9TyPnwjghQZfrDg3VqHT8otDs",
      "include_colab_link": true
    },
    "kernelspec": {
      "name": "python3",
      "display_name": "Python 3"
    },
    "language_info": {
      "name": "python"
    }
  },
  "cells": [
    {
      "cell_type": "markdown",
      "metadata": {
        "id": "view-in-github",
        "colab_type": "text"
      },
      "source": [
        "<a href=\"https://colab.research.google.com/github/fgith/data-science/blob/main/linear-regression/linear_regression_diabetes.ipynb\" target=\"_parent\"><img src=\"https://colab.research.google.com/assets/colab-badge.svg\" alt=\"Open In Colab\"/></a>"
      ]
    },
    {
      "cell_type": "markdown",
      "source": [
        "**Import Library**"
      ],
      "metadata": {
        "id": "tOQntqsOUSRR"
      }
    },
    {
      "cell_type": "code",
      "source": [
        "from sklearn import datasets"
      ],
      "metadata": {
        "id": "UmJtlBnFUMzR"
      },
      "execution_count": 1,
      "outputs": []
    },
    {
      "cell_type": "markdown",
      "source": [
        "**Load diabetes dataset**"
      ],
      "metadata": {
        "id": "08kr7uqYUqha"
      }
    },
    {
      "cell_type": "code",
      "source": [
        "diabetes = datasets.load_diabetes()"
      ],
      "metadata": {
        "id": "S56ELeRaU1tr"
      },
      "execution_count": 2,
      "outputs": []
    },
    {
      "cell_type": "markdown",
      "source": [
        "**Review Dataset**"
      ],
      "metadata": {
        "id": "2-1csgsVVeI4"
      }
    },
    {
      "cell_type": "code",
      "source": [
        "diabetes.data[0]\n",
        "diabetes.feature_names\n",
        "diabetes.target[0]"
      ],
      "metadata": {
        "colab": {
          "base_uri": "https://localhost:8080/"
        },
        "id": "bBMH5IlkVhT4",
        "outputId": "8cbb8fa4-a69a-4406-9f87-ebd4f5de80bb"
      },
      "execution_count": 21,
      "outputs": [
        {
          "output_type": "execute_result",
          "data": {
            "text/plain": [
              "['age', 'sex', 'bmi', 'bp', 's1', 's2', 's3', 's4', 's5', 's6']"
            ]
          },
          "metadata": {},
          "execution_count": 21
        }
      ]
    },
    {
      "cell_type": "markdown",
      "source": [
        "**Create X and Y variables**"
      ],
      "metadata": {
        "id": "sbiwNp_8XWOh"
      }
    },
    {
      "cell_type": "code",
      "source": [
        "X = diabetes.data\n",
        "Y = diabetes.target"
      ],
      "metadata": {
        "id": "lDX-UOeKXbYN"
      },
      "execution_count": 16,
      "outputs": []
    },
    {
      "cell_type": "code",
      "source": [
        "X.shape, Y.shape"
      ],
      "metadata": {
        "colab": {
          "base_uri": "https://localhost:8080/"
        },
        "id": "cycYb4GVXjAW",
        "outputId": "b8ed26b8-f3ab-4930-e47f-b1efa50e625c"
      },
      "execution_count": 23,
      "outputs": [
        {
          "output_type": "execute_result",
          "data": {
            "text/plain": [
              "((442, 10), (442,))"
            ]
          },
          "metadata": {},
          "execution_count": 23
        }
      ]
    },
    {
      "cell_type": "markdown",
      "source": [
        "**Data Split**"
      ],
      "metadata": {
        "id": "i7Uo1UeTYllX"
      }
    },
    {
      "cell_type": "code",
      "source": [
        "from sklearn.model_selection import train_test_split"
      ],
      "metadata": {
        "id": "C0g1Du6DYqMc"
      },
      "execution_count": 25,
      "outputs": []
    },
    {
      "cell_type": "code",
      "source": [
        "X_train, X_test, Y_train, Y_test = train_test_split(X, Y, train_size=0.8)"
      ],
      "metadata": {
        "id": "B5Ueqj-uZgHg"
      },
      "execution_count": 26,
      "outputs": []
    },
    {
      "cell_type": "code",
      "source": [
        "print(X_train.shape, Y_train.shape)\n",
        "print(X_test.shape, Y_test.shape)"
      ],
      "metadata": {
        "colab": {
          "base_uri": "https://localhost:8080/"
        },
        "id": "-03REaucZ0fj",
        "outputId": "7636e725-e899-4377-a1bd-8bef22dd6afb"
      },
      "execution_count": 37,
      "outputs": [
        {
          "output_type": "stream",
          "name": "stdout",
          "text": [
            "(353, 10) (353,)\n",
            "(89, 10) (89,)\n"
          ]
        }
      ]
    },
    {
      "cell_type": "markdown",
      "source": [
        "**Linear Regression Model**"
      ],
      "metadata": {
        "id": "Wiz_F6cEay0P"
      }
    },
    {
      "cell_type": "code",
      "source": [
        "from sklearn import linear_model\n",
        "from sklearn.metrics import mean_squared_error, r2_score"
      ],
      "metadata": {
        "id": "RdO0FQVoa1v2"
      },
      "execution_count": 33,
      "outputs": []
    },
    {
      "cell_type": "markdown",
      "source": [
        "**Build Linear Regression Model**"
      ],
      "metadata": {
        "id": "f5HTPCyGc4cS"
      }
    },
    {
      "cell_type": "code",
      "source": [
        "model = linear_model.LinearRegression()"
      ],
      "metadata": {
        "id": "He9HB9Nnc-in"
      },
      "execution_count": 39,
      "outputs": []
    },
    {
      "cell_type": "markdown",
      "source": [
        "**Fit Training Data X, Y to the model**"
      ],
      "metadata": {
        "id": "6xfmRpnueAhK"
      }
    },
    {
      "cell_type": "code",
      "source": [
        "model.fit(X_train, Y_train)"
      ],
      "metadata": {
        "colab": {
          "base_uri": "https://localhost:8080/"
        },
        "id": "IdryLTjGdLAF",
        "outputId": "9f0f9a1b-087c-4fc3-e37f-7e593ac71f8d"
      },
      "execution_count": 40,
      "outputs": [
        {
          "output_type": "execute_result",
          "data": {
            "text/plain": [
              "LinearRegression()"
            ]
          },
          "metadata": {},
          "execution_count": 40
        }
      ]
    },
    {
      "cell_type": "markdown",
      "source": [
        "**Apply model on test data to predict Y**"
      ],
      "metadata": {
        "id": "l6B2WSHoeQgL"
      }
    },
    {
      "cell_type": "code",
      "source": [
        "Y_pred = model.predict(X_test)\n",
        "Y_pred.shape"
      ],
      "metadata": {
        "colab": {
          "base_uri": "https://localhost:8080/"
        },
        "id": "L31z-MtveJKe",
        "outputId": "ae81927f-5ab8-4276-d6ba-2d48ecf596df"
      },
      "execution_count": 43,
      "outputs": [
        {
          "output_type": "execute_result",
          "data": {
            "text/plain": [
              "(89,)"
            ]
          },
          "metadata": {},
          "execution_count": 43
        }
      ]
    },
    {
      "cell_type": "markdown",
      "source": [
        "**Prediction results and coefficients**"
      ],
      "metadata": {
        "id": "DwH0oKNNfJgp"
      }
    },
    {
      "cell_type": "code",
      "source": [
        "print(\"Coefficients:\", model.coef_)\n",
        "print(\"Intercept:\", model.intercept_)\n",
        "print(\"Mean Squared Error: %.2f\" % mean_squared_error(Y_test,Y_pred))\n",
        "print(\"Coefficient of Determination: %.2f\" % r2_score(Y_test,Y_pred))\n",
        "print(\"Y Predicted values: \", Y_pred)"
      ],
      "metadata": {
        "colab": {
          "base_uri": "https://localhost:8080/"
        },
        "id": "uB7fn1BNfOxl",
        "outputId": "ccbe4942-ff37-409a-e540-c3845ded7fd6"
      },
      "execution_count": 51,
      "outputs": [
        {
          "output_type": "stream",
          "name": "stdout",
          "text": [
            "Coefficients: [  17.34194226 -268.42539778  540.87583982  309.28521749 -764.13358674\n",
            "  436.28621356  138.33947403  209.21111273  726.96941526  120.73974476]\n",
            "Intercept: 153.17694362827274\n",
            "Mean Squared Error: 2698.21\n",
            "Coefficient of Determination: 0.50\n",
            "Y Predicted values:  [210.90293335 204.76489231 120.25885882 116.53498711 237.7721148\n",
            "  59.25563919 104.25136052 152.25955001  98.0954745  150.71819131\n",
            " 161.2496863  195.37395305 113.22114744 121.11312061 178.21176356\n",
            " 255.83357551 217.44464514  90.00866794 193.39984048 182.04294859\n",
            "  79.56603196 234.45037565 251.54600195  52.70206266 193.95427337\n",
            " 103.98307992 236.28537337  65.67859469 211.44849283 230.48552463\n",
            " 199.92942737 261.0239325  163.72703932  49.5457184   78.53488534\n",
            " 161.66972906 163.41445341 169.49871787 122.08880068  53.93773815\n",
            " 142.40904128  45.71409494 148.62428786 120.23066855 175.085891\n",
            "  62.25312263  94.0195863   80.1020313   60.92034404 138.66178979\n",
            "  79.59481107 108.24029555 164.01018753 207.85962364  80.3085638\n",
            " 161.25888591 188.21454859 181.63738753 136.81531743 178.14587031\n",
            "  87.48310694 179.43002432  63.4051033  124.40028114  60.57323037\n",
            " 216.80112206 242.9704081  230.68555867  88.45226615  97.81651512\n",
            "  69.62382572 119.71644512 123.31438519 121.46639016 124.24200574\n",
            " 136.13965881 150.81686479  78.74785815 127.83190124 199.94841666\n",
            " 254.75054029 189.61650596 188.65781598 113.54550099 131.18871212\n",
            " 160.37652946 156.6074905  233.06259248 240.24807545]\n"
          ]
        }
      ]
    },
    {
      "cell_type": "markdown",
      "source": [
        "**Plot Predictions**"
      ],
      "metadata": {
        "id": "_Qn05gQykqrx"
      }
    },
    {
      "cell_type": "code",
      "source": [
        "import seaborn as sp"
      ],
      "metadata": {
        "id": "SPUcdn5QkwdG"
      },
      "execution_count": 55,
      "outputs": []
    },
    {
      "cell_type": "code",
      "source": [
        "sp.scatterplot(Y_test,Y_pred,alpha=0.5)"
      ],
      "metadata": {
        "colab": {
          "base_uri": "https://localhost:8080/",
          "height": 337
        },
        "id": "9MtTrKUZk53V",
        "outputId": "1018cc7e-c5bc-454c-8397-3794c885ee0b"
      },
      "execution_count": 60,
      "outputs": [
        {
          "output_type": "stream",
          "name": "stderr",
          "text": [
            "/usr/local/lib/python3.7/dist-packages/seaborn/_decorators.py:43: FutureWarning: Pass the following variables as keyword args: x, y. From version 0.12, the only valid positional argument will be `data`, and passing other arguments without an explicit keyword will result in an error or misinterpretation.\n",
            "  FutureWarning\n"
          ]
        },
        {
          "output_type": "execute_result",
          "data": {
            "text/plain": [
              "<matplotlib.axes._subplots.AxesSubplot at 0x7f4b082d15d0>"
            ]
          },
          "metadata": {},
          "execution_count": 60
        },
        {
          "output_type": "display_data",
          "data": {
            "text/plain": [
              "<Figure size 432x288 with 1 Axes>"
            ],
            "image/png": "[encoded data removed]"
          },
          "metadata": {
            "needs_background": "light"
          }
        }
      ]
    }
  ]
}